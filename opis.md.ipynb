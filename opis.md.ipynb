{
 "cells": [
  {
   "metadata": {},
   "cell_type": "markdown",
   "source": [
    "## Wczytywanie Danych\n",
    "podczas wczytywania musiałem dodać dodatkowy separator ';', by nagłówki się rozdzieliły oraz zaznaczyć ',' jako separator dziesiętny, gdyż część danych liczbowych było odczytywanych jako string"
   ],
   "id": "8404cc502116be7"
  },
  {
   "metadata": {},
   "cell_type": "markdown",
   "source": [
    "## Uczenie Maszynowe\n",
    "By wykonać zadanie w dużej mierzę inspirowałem się podanym przykładem,\n",
    "więc modele takie jak:\n",
    "- KNN,\n",
    "- Decision Tree itp.\n",
    "\n",
    "są napisane na podstawie przykładu."
   ],
   "id": "e8c11bf0199fb71e"
  },
  {
   "metadata": {},
   "cell_type": "markdown",
   "source": [
    "## Przebieg zadania\n",
    "- wczytanie danych\n",
    "- przypisanie poszczególnych kolumn do odpowiednich zmiennych X-kolumny z danymi, Y-interesujący nas wynik\n",
    "- podział na cześć treningową i testową w proporcjach 8:2\n",
    "- zeskalowanie danych(później nie używane, ze względu na skalowanie w pipeline)\n",
    "- zastowsowanie modelu KNN oraz GridSearch, by zwiększyć dokładność KNN\n",
    "- zastosowanie Decision Tree\n",
    "- zastosowanie VSM\n",
    "- zastosowanie Logistic Regression\n",
    "- zastosowanie Random Forest Classifier\n",
    "- następnie porównałem wyniki poszczególnych modeli"
   ],
   "id": "ffe082599e980374"
  },
  {
   "metadata": {},
   "cell_type": "markdown",
   "source": [
    "## Wyniki\n",
    "wyniki wyszły dość podobne do siebie co mnie zaniepokoiło szczególnie, że w przykładzie były dość precyzyjne i różne od siebie co w połączeniu z tym, że dopiero na potrzeby rekrutacji zacząłem się zajmować pythonem sprawiło, że się zagubiłem. Ostatecznie, po poszukiwaniach w internecie i porównaniu danych z zadania przykładowego z właściwymi, doszedłem do wniosku, że takie wyniki mogą być spowodowane małą próbką oraz jej małym zróżnicowaniem 28:9 na rzecz chorych.\n",
    "By zwiększyć precyzje modeli, próbowałem ustawić class_weight na \"balanced\"\n",
    "oraz snote() jednak ostatecznie wycofałem się z tych pomysłów."
   ],
   "id": "be8246c8677fba21"
  },
  {
   "metadata": {},
   "cell_type": "markdown",
   "source": [
    "## Sprawdzanie\n",
    "do sprawdzenia wyników początkowo użyłem wykresu RoC, jednak po opisanych wyżej niepewnościach co do wyniku postanowiłem dodać jeszcze matrix, precision, recall oraz F1-score"
   ],
   "id": "98928f4f94a633e2"
  }
 ],
 "metadata": {
  "kernelspec": {
   "display_name": "Python 3",
   "language": "python",
   "name": "python3"
  },
  "language_info": {
   "codemirror_mode": {
    "name": "ipython",
    "version": 2
   },
   "file_extension": ".py",
   "mimetype": "text/x-python",
   "name": "python",
   "nbconvert_exporter": "python",
   "pygments_lexer": "ipython2",
   "version": "2.7.6"
  }
 },
 "nbformat": 4,
 "nbformat_minor": 5
}
